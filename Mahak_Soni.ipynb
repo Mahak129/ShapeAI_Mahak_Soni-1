{
  "nbformat": 4,
  "nbformat_minor": 0,
  "metadata": {
    "colab": {
      "name": "Mahak_Soni",
      "provenance": []
    },
    "kernelspec": {
      "name": "python3",
      "display_name": "Python 3"
    },
    "language_info": {
      "name": "python"
    }
  },
  "cells": [
    {
      "cell_type": "code",
      "metadata": {
        "id": "Fj7HzrRnGJzI"
      },
      "source": [
        "from keras.datasets import mnist\n",
        "\n",
        "data = mnist.load_data()"
      ],
      "execution_count": 36,
      "outputs": []
    },
    {
      "cell_type": "code",
      "metadata": {
        "id": "78tpEr0ZITyy"
      },
      "source": [
        "(X_train, y_train),(X_test, y_test) = data\n"
      ],
      "execution_count": 37,
      "outputs": []
    },
    {
      "cell_type": "code",
      "metadata": {
        "id": "F5wDl4LiLSAG"
      },
      "source": [
        "#Shape of Training data\n",
        "X_train[0].shape"
      ],
      "execution_count": null,
      "outputs": []
    },
    {
      "cell_type": "code",
      "metadata": {
        "id": "guZUl5cFL6Kt"
      },
      "source": [
        "#Reshape the Training data\n",
        "X_train = X_train.reshape((X_train.shape[0], 28*28)).astype('float32')\n",
        "X_test =X_test.reshape((X_test.shape[0], 28*28)).astype('float32')\n"
      ],
      "execution_count": 39,
      "outputs": []
    },
    {
      "cell_type": "code",
      "metadata": {
        "id": "fdvJ5GfGNHL7"
      },
      "source": [
        "#Normalizing value from 0-255 to 0-1\n",
        "X_train = X_train / 255\n",
        "X_test =X_test /255"
      ],
      "execution_count": 40,
      "outputs": []
    },
    {
      "cell_type": "code",
      "metadata": {
        "id": "gUChETecQuEG"
      },
      "source": [
        "from keras.utils import np_utils\n",
        "print(y_test.shape)\n",
        "\n",
        "y_train = np_utils.to_categorical(y_train)\n",
        "y_test = np_utils.to_categorical(y_test)\n",
        "\n",
        "\n",
        "num_classes = y_test.shape[1]\n",
        "print( y_test.shape)\n"
      ],
      "execution_count": null,
      "outputs": []
    },
    {
      "cell_type": "code",
      "metadata": {
        "id": "ybFrDby3S6Ez"
      },
      "source": [
        "from keras.models import Sequential\n",
        "from keras.layers import Dense\n"
      ],
      "execution_count": 42,
      "outputs": []
    },
    {
      "cell_type": "code",
      "metadata": {
        "id": "C4XbXzQhTf_b"
      },
      "source": [
        "#Define Model\n",
        "model = Sequential()\n",
        "\n",
        "#Add First Hidden Layer\n",
        "model.add(Dense(32, input_dim = 28*28, activation= 'relu'))\n",
        "\n",
        "#Add Second Hidden Layer\n",
        "model.add(Dense(64, activation='relu'))\n",
        "\n",
        "#Add output layer having 10 neurons (since there 10 classes)\n",
        "model.add(Dense(10, activation='softmax'))\n"
      ],
      "execution_count": 35,
      "outputs": []
    },
    {
      "cell_type": "code",
      "metadata": {
        "id": "2bVHw_TGWNX0"
      },
      "source": [
        "#Compile Model\n",
        "model.compile(loss='categorical_crossentropy' , optimizer='adam', metrics=['accuracy'])\n"
      ],
      "execution_count": 43,
      "outputs": []
    },
    {
      "cell_type": "code",
      "metadata": {
        "id": "5nYZosAxW6TE"
      },
      "source": [
        "#Print Model Summary\n",
        "model.summary()\n"
      ],
      "execution_count": null,
      "outputs": []
    },
    {
      "cell_type": "code",
      "metadata": {
        "id": "piXLd6ARXWl6"
      },
      "source": [
        "#Train Model\n",
        "model.fit(X_train, y_train,  epochs=10, batch_size=100)\n"
      ],
      "execution_count": null,
      "outputs": []
    },
    {
      "cell_type": "code",
      "metadata": {
        "id": "1Q-aY8hRYwGS"
      },
      "source": [
        "scores = model.evaluate(X_test, y_test)\n",
        "print(scores) ## returns loss and accuracy"
      ],
      "execution_count": null,
      "outputs": []
    }
  ]
}